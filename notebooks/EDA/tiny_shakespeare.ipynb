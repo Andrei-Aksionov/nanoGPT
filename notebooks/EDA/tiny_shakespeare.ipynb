{
 "cells": [
  {
   "attachments": {},
   "cell_type": "markdown",
   "metadata": {},
   "source": [
    "<h1><center>Exploratory Data Analysis</center></h1>\n",
    "<h5><center>Tiny Shakespeare Dataset</center></h5>"
   ]
  },
  {
   "attachments": {},
   "cell_type": "markdown",
   "metadata": {},
   "source": [
    "<div class=\"alert alert-block alert-info\">It's a simple EDA of tiny-shakespeare dataset. Here one can find information about:\n",
    "    <ul>\n",
    "        <li>distribution of words/characters in each replica</li>\n",
    "        <li>what is the average, min and max length of replicas</li>\n",
    "        <li>who is the most common acting person </li>\n",
    "        <li>what acting person has the largest number of replicas.</li>\n",
    "    </ul>\n",
    "</div>"
   ]
  },
  {
   "cell_type": "code",
   "execution_count": 1,
   "metadata": {},
   "outputs": [],
   "source": [
    "from collections import Counter\n",
    "from pathlib import Path\n",
    "\n",
    "import numpy as np\n",
    "import pandas as pd\n",
    "from matplotlib import pyplot as plt\n",
    "\n",
    "from src import config"
   ]
  },
  {
   "attachments": {},
   "cell_type": "markdown",
   "metadata": {},
   "source": [
    "# 1. Parsing dataset"
   ]
  },
  {
   "attachments": {},
   "cell_type": "markdown",
   "metadata": {},
   "source": [
    "Tiny-shakespeare dataset is provided in a form of a simple txt file. First we need to parse it."
   ]
  },
  {
   "cell_type": "code",
   "execution_count": 2,
   "metadata": {},
   "outputs": [],
   "source": [
    "dataset_config = config.datasets.tiny_shakespeare\n",
    "dataset_filepath = Path(\"../..\").resolve() / dataset_config.folder / Path(dataset_config.url).name"
   ]
  },
  {
   "attachments": {},
   "cell_type": "markdown",
   "metadata": {},
   "source": [
    "Let's take a look at how the file is structured:"
   ]
  },
  {
   "cell_type": "code",
   "execution_count": 3,
   "metadata": {},
   "outputs": [
    {
     "data": {
      "text/plain": [
       "['First Citizen:\\n',\n",
       " 'Before we proceed any further, hear me speak.\\n',\n",
       " '\\n',\n",
       " 'All:\\n',\n",
       " 'Speak, speak.\\n',\n",
       " '\\n',\n",
       " 'First Citizen:\\n',\n",
       " 'You are all resolved rather to die than to famish?\\n']"
      ]
     },
     "execution_count": 3,
     "metadata": {},
     "output_type": "execute_result"
    }
   ],
   "source": [
    "with open(dataset_filepath, \"r\") as fin:\n",
    "    dataset = fin.readlines(100)  # read first 100 bytes\n",
    "\n",
    "dataset"
   ]
  },
  {
   "attachments": {},
   "cell_type": "markdown",
   "metadata": {},
   "source": [
    "From the output above we can conclude:\n",
    "- each replica block is divided by a line with only 'new line' character\n",
    "- inside each replica block the first line is the acting person's name ...\n",
    "- ... and the lines after - the replica itself\n",
    "\n",
    "Based on these observations we can start parsing."
   ]
  },
  {
   "cell_type": "code",
   "execution_count": 4,
   "metadata": {},
   "outputs": [
    {
     "name": "stdout",
     "output_type": "stream",
     "text": [
      "Number of records in the dataset: 7222\n"
     ]
    },
    {
     "data": {
      "text/html": [
       "<div>\n",
       "<style scoped>\n",
       "    .dataframe tbody tr th:only-of-type {\n",
       "        vertical-align: middle;\n",
       "    }\n",
       "\n",
       "    .dataframe tbody tr th {\n",
       "        vertical-align: top;\n",
       "    }\n",
       "\n",
       "    .dataframe thead th {\n",
       "        text-align: right;\n",
       "    }\n",
       "</style>\n",
       "<table border=\"1\" class=\"dataframe\">\n",
       "  <thead>\n",
       "    <tr style=\"text-align: right;\">\n",
       "      <th></th>\n",
       "      <th>acting_person</th>\n",
       "      <th>replica</th>\n",
       "    </tr>\n",
       "  </thead>\n",
       "  <tbody>\n",
       "    <tr>\n",
       "      <th>0</th>\n",
       "      <td>First Citizen</td>\n",
       "      <td>Before we proceed any further, hear me speak</td>\n",
       "    </tr>\n",
       "    <tr>\n",
       "      <th>1</th>\n",
       "      <td>All</td>\n",
       "      <td>Speak, speak</td>\n",
       "    </tr>\n",
       "    <tr>\n",
       "      <th>2</th>\n",
       "      <td>First Citizen</td>\n",
       "      <td>You are all resolved rather to die than to famish</td>\n",
       "    </tr>\n",
       "    <tr>\n",
       "      <th>3</th>\n",
       "      <td>All</td>\n",
       "      <td>Resolved. resolved</td>\n",
       "    </tr>\n",
       "    <tr>\n",
       "      <th>4</th>\n",
       "      <td>First Citizen</td>\n",
       "      <td>First, you know Caius Marcius is chief enemy t...</td>\n",
       "    </tr>\n",
       "  </tbody>\n",
       "</table>\n",
       "</div>"
      ],
      "text/plain": [
       "   acting_person                                            replica\n",
       "0  First Citizen       Before we proceed any further, hear me speak\n",
       "1            All                                       Speak, speak\n",
       "2  First Citizen  You are all resolved rather to die than to famish\n",
       "3            All                                 Resolved. resolved\n",
       "4  First Citizen  First, you know Caius Marcius is chief enemy t..."
      ]
     },
     "execution_count": 4,
     "metadata": {},
     "output_type": "execute_result"
    }
   ],
   "source": [
    "dataset_df = pd.DataFrame(columns=[\"acting_person\", \"replica\"])\n",
    "\n",
    "line = True\n",
    "with open(dataset_filepath, \"r\") as fin:\n",
    "    while line:\n",
    "        # read character\n",
    "        line = fin.readline()\n",
    "        character = line.split(\":\\n\")[0]\n",
    "\n",
    "        # read replica\n",
    "        replicas = []\n",
    "        while True:\n",
    "            line = fin.readline()\n",
    "            # if line only contains \"\\n\" - it's a separator to the next quote block\n",
    "            if line and line != \"\\n\":\n",
    "                replicas.append(line[:-2])  # skip new line symbol combo\n",
    "            else:\n",
    "                break\n",
    "\n",
    "        new_row = pd.DataFrame({\"acting_person\": character, \"replica\": \" \".join(replicas)}, index=[len(dataset_df)])\n",
    "        dataset_df = pd.concat([dataset_df, new_row])\n",
    "\n",
    "print(f\"Number of records in the dataset: {len(dataset_df)}\")\n",
    "dataset_df.head()"
   ]
  },
  {
   "attachments": {},
   "cell_type": "markdown",
   "metadata": {},
   "source": [
    "# 2. Analyzing dataset"
   ]
  },
  {
   "attachments": {},
   "cell_type": "markdown",
   "metadata": {},
   "source": [
    "## 2.1. Distribution of acting persons "
   ]
  },
  {
   "cell_type": "code",
   "execution_count": 5,
   "metadata": {},
   "outputs": [
    {
     "data": {
      "text/plain": [
       "GLOUCESTER          0.031709\n",
       "DUKE VINCENTIO      0.026724\n",
       "ROMEO               0.022570\n",
       "MENENIUS            0.022431\n",
       "PETRUCHIO           0.021878\n",
       "CORIOLANUS          0.020631\n",
       "KING RICHARD III    0.019108\n",
       "ISABELLA            0.017862\n",
       "LEONTES             0.017308\n",
       "JULIET              0.017308\n",
       "Name: acting_person, dtype: float64"
      ]
     },
     "execution_count": 5,
     "metadata": {},
     "output_type": "execute_result"
    }
   ],
   "source": [
    "acting_person_distribution = dataset_df[\"acting_person\"].value_counts(normalize=True)\n",
    "acting_person_distribution.iloc[:10]"
   ]
  },
  {
   "cell_type": "code",
   "execution_count": 6,
   "metadata": {},
   "outputs": [
    {
     "data": {
      "image/png": "[encoded data removed]",
      "text/plain": [
       "<Figure size 2000x500 with 2 Axes>"
      ]
     },
     "metadata": {},
     "output_type": "display_data"
    }
   ],
   "source": [
    "fig, axes = plt.subplots(nrows=1, ncols=2, figsize=(20, 5))\n",
    "axes = iter(axes.flatten())\n",
    "\n",
    "fig.suptitle(\"Acting person distribution\")\n",
    "\n",
    "ax = next(axes)\n",
    "ax.set_title(\"Full picture\")\n",
    "ax.set_xlabel(\"Fraction (%)\")\n",
    "ax.set_ylabel(\"Frequency\")\n",
    "ax.hist(acting_person_distribution, bins=50)\n",
    "\n",
    "ax = next(axes)\n",
    "ax.set_title(\"Zoomed in\")\n",
    "ax.set_xlabel(\"Fraction (%)\")\n",
    "ax.set_ylabel(\"Frequency\")\n",
    "x_max = np.percentile(acting_person_distribution, 75)\n",
    "ax.set_xlim([0, x_max])\n",
    "ax.hist(acting_person_distribution, bins=50)\n",
    "\n",
    "plt.show()"
   ]
  },
  {
   "attachments": {},
   "cell_type": "markdown",
   "metadata": {},
   "source": [
    "As we can see from the chart above most of the time only small number of acting persons have replicas and most of the acting persons appear only occasionally:\n",
    "75 % of all acting persons appear only 0.35% of time."
   ]
  },
  {
   "attachments": {},
   "cell_type": "markdown",
   "metadata": {},
   "source": [
    "## 2.2. Distribution of characters and words in replicas"
   ]
  },
  {
   "cell_type": "code",
   "execution_count": 7,
   "metadata": {},
   "outputs": [],
   "source": [
    "dataset_df[\"replica_length_char\"] = dataset_df[\"replica\"].str.len()\n",
    "dataset_df[\"replica_length_word\"] = dataset_df[\"replica\"].str.split(\" \").apply(len)"
   ]
  },
  {
   "cell_type": "code",
   "execution_count": 8,
   "metadata": {},
   "outputs": [
    {
     "data": {
      "image/png": "[encoded data removed]",
      "text/plain": [
       "<Figure size 2000x1000 with 4 Axes>"
      ]
     },
     "metadata": {},
     "output_type": "display_data"
    }
   ],
   "source": [
    "fig, axes = plt.subplots(nrows=2, ncols=2, figsize=(20, 10), sharey=True)\n",
    "axes = iter(axes.flatten())\n",
    "\n",
    "fig.suptitle(\"Distribution of number of characters/words in replicas\")\n",
    "\n",
    "for title, data in zip(\n",
    "    [\"Distribution of number of characters in replicas\", \"Distribution of number of words in replicas\"],\n",
    "    [dataset_df[\"replica_length_char\"], dataset_df[\"replica_length_word\"]],\n",
    "):\n",
    "\n",
    "    ax = next(axes)\n",
    "\n",
    "    ax.set_title(title)\n",
    "    ax.set_xlabel(\"Fraction (%)\")\n",
    "    ax.set_ylabel(\"Frequency\")\n",
    "    ax.hist(data, bins=50)\n",
    "\n",
    "    ax = next(axes)\n",
    "\n",
    "    ax.set_title(f\"{title} (zoomed in)\")\n",
    "    ax.set_xlabel(\"Fraction (%)\")\n",
    "    ax.set_ylabel(\"Frequency\")\n",
    "    x_max = np.percentile(data, 75)\n",
    "    ax.set_xlim([0, x_max])\n",
    "    ax.hist(data, bins=50)\n",
    "\n",
    "plt.show()"
   ]
  },
  {
   "attachments": {},
   "cell_type": "markdown",
   "metadata": {},
   "source": [
    "From the charts above we can notice that the majority of all replicas are short both in terms of characters and words: 75% of all replicas have around 160 characters and 30 words."
   ]
  },
  {
   "attachments": {},
   "cell_type": "markdown",
   "metadata": {},
   "source": [
    "### 2.2.1. Most popular characters and words"
   ]
  },
  {
   "cell_type": "code",
   "execution_count": 9,
   "metadata": {},
   "outputs": [],
   "source": [
    "char_counter = Counter()\n",
    "word_counter = Counter()\n",
    "\n",
    "for row in dataset_df.itertuples():\n",
    "    char_counter.update(row.replica)\n",
    "    word_counter.update(row.replica.split(\" \"))"
   ]
  },
  {
   "cell_type": "code",
   "execution_count": 10,
   "metadata": {},
   "outputs": [
    {
     "data": {
      "text/plain": [
       "[(' ', 185748),\n",
       " ('e', 92014),\n",
       " ('t', 65508),\n",
       " ('o', 65011),\n",
       " ('a', 54945),\n",
       " ('h', 50875),\n",
       " ('s', 48194),\n",
       " ('r', 47299),\n",
       " ('n', 47245),\n",
       " ('i', 44806),\n",
       " ('l', 32921),\n",
       " ('d', 30103),\n",
       " ('u', 26277),\n",
       " ('m', 21968),\n",
       " ('y', 20010),\n",
       " ('w', 17390),\n",
       " ('f', 15594),\n",
       " ('c', 15397),\n",
       " (',', 14339),\n",
       " ('g', 13110)]"
      ]
     },
     "execution_count": 10,
     "metadata": {},
     "output_type": "execute_result"
    }
   ],
   "source": [
    "char_counter.most_common(20)"
   ]
  },
  {
   "cell_type": "code",
   "execution_count": 11,
   "metadata": {},
   "outputs": [
    {
     "data": {
      "text/plain": [
       "[('the', 5407),\n",
       " ('I', 4370),\n",
       " ('to', 3887),\n",
       " ('and', 3584),\n",
       " ('of', 3243),\n",
       " ('my', 2654),\n",
       " ('a', 2591),\n",
       " ('you', 2346),\n",
       " ('in', 2056),\n",
       " ('that', 1803),\n",
       " ('And', 1801),\n",
       " ('is', 1780),\n",
       " ('not', 1658),\n",
       " ('with', 1531),\n",
       " ('be', 1502),\n",
       " ('your', 1471),\n",
       " ('for', 1370),\n",
       " ('his', 1369),\n",
       " ('it', 1358),\n",
       " ('me', 1354)]"
      ]
     },
     "execution_count": 11,
     "metadata": {},
     "output_type": "execute_result"
    }
   ],
   "source": [
    "word_counter.most_common(20)"
   ]
  },
  {
   "attachments": {},
   "cell_type": "markdown",
   "metadata": {},
   "source": [
    "It comes to no surprise but the most popular words are so called 'stop words'. We can assume that the generative model will not have any troubles with these words."
   ]
  },
  {
   "attachments": {},
   "cell_type": "markdown",
   "metadata": {},
   "source": [
    "In addition I want to see 20 least common words (to know where the model may struggle):"
   ]
  },
  {
   "cell_type": "code",
   "execution_count": 12,
   "metadata": {},
   "outputs": [
    {
     "data": {
      "text/plain": [
       "['Resolved.',\n",
       " \"know't,\",\n",
       " 'accounted',\n",
       " 'surfeits',\n",
       " 'superfluity,',\n",
       " 'wholesome,',\n",
       " 'relieved',\n",
       " 'humanely',\n",
       " 'dear:',\n",
       " 'afflicts',\n",
       " 'inventory',\n",
       " 'particularise',\n",
       " 'abundance;',\n",
       " 'pikes,',\n",
       " 'rakes:',\n",
       " 'bread,',\n",
       " 'commonalty',\n",
       " 'fort,',\n",
       " 'maliciously',\n",
       " 'famously,']"
      ]
     },
     "execution_count": 12,
     "metadata": {},
     "output_type": "execute_result"
    }
   ],
   "source": [
    "sorted(word_counter, key=word_counter.get)[:20]"
   ]
  },
  {
   "attachments": {},
   "cell_type": "markdown",
   "metadata": {},
   "source": [
    "<div class=\"alert alert-block alert-info\"><b>Preprocessing info</b>: these words above might be least common because they have punctuation signs at the end. Preprocessing should fix that.</div>"
   ]
  },
  {
   "attachments": {},
   "cell_type": "markdown",
   "metadata": {},
   "source": [
    "## 2.3. Distribution of replicas per acting person"
   ]
  },
  {
   "attachments": {},
   "cell_type": "markdown",
   "metadata": {},
   "source": [
    "As a fun part in the end I want to see which acting person has the most words/characters on average (in replicas):"
   ]
  },
  {
   "cell_type": "code",
   "execution_count": 13,
   "metadata": {},
   "outputs": [
    {
     "data": {
      "text/html": [
       "<div>\n",
       "<style scoped>\n",
       "    .dataframe tbody tr th:only-of-type {\n",
       "        vertical-align: middle;\n",
       "    }\n",
       "\n",
       "    .dataframe tbody tr th {\n",
       "        vertical-align: top;\n",
       "    }\n",
       "\n",
       "    .dataframe thead th {\n",
       "        text-align: right;\n",
       "    }\n",
       "</style>\n",
       "<table border=\"1\" class=\"dataframe\">\n",
       "  <thead>\n",
       "    <tr style=\"text-align: right;\">\n",
       "      <th></th>\n",
       "      <th>replica_words_avg</th>\n",
       "      <th>replica_chars_avg</th>\n",
       "    </tr>\n",
       "    <tr>\n",
       "      <th>acting_person</th>\n",
       "      <th></th>\n",
       "      <th></th>\n",
       "    </tr>\n",
       "  </thead>\n",
       "  <tbody>\n",
       "    <tr>\n",
       "      <th>Time</th>\n",
       "      <td>266</td>\n",
       "      <td>1343</td>\n",
       "    </tr>\n",
       "    <tr>\n",
       "      <th>Scrivener</th>\n",
       "      <td>117</td>\n",
       "      <td>612</td>\n",
       "    </tr>\n",
       "    <tr>\n",
       "      <th>DUCHESS</th>\n",
       "      <td>113</td>\n",
       "      <td>626</td>\n",
       "    </tr>\n",
       "    <tr>\n",
       "      <th>Chorus</th>\n",
       "      <td>113</td>\n",
       "      <td>596</td>\n",
       "    </tr>\n",
       "    <tr>\n",
       "      <th>Third Gentleman</th>\n",
       "      <td>98</td>\n",
       "      <td>524</td>\n",
       "    </tr>\n",
       "    <tr>\n",
       "      <th>NURSE</th>\n",
       "      <td>87</td>\n",
       "      <td>440</td>\n",
       "    </tr>\n",
       "    <tr>\n",
       "      <th>THOMAS MOWBRAY</th>\n",
       "      <td>81</td>\n",
       "      <td>416</td>\n",
       "    </tr>\n",
       "    <tr>\n",
       "      <th>BISHOP OF CARLISLE</th>\n",
       "      <td>80</td>\n",
       "      <td>439</td>\n",
       "    </tr>\n",
       "    <tr>\n",
       "      <th>RICHMOND</th>\n",
       "      <td>76</td>\n",
       "      <td>412</td>\n",
       "    </tr>\n",
       "    <tr>\n",
       "      <th>Fourth Messenger</th>\n",
       "      <td>76</td>\n",
       "      <td>410</td>\n",
       "    </tr>\n",
       "    <tr>\n",
       "      <th>FRANCISCO</th>\n",
       "      <td>76</td>\n",
       "      <td>385</td>\n",
       "    </tr>\n",
       "    <tr>\n",
       "      <th>Gardener</th>\n",
       "      <td>71</td>\n",
       "      <td>379</td>\n",
       "    </tr>\n",
       "    <tr>\n",
       "      <th>Second Officer</th>\n",
       "      <td>62</td>\n",
       "      <td>336</td>\n",
       "    </tr>\n",
       "    <tr>\n",
       "      <th>KING RICHARD II</th>\n",
       "      <td>61</td>\n",
       "      <td>319</td>\n",
       "    </tr>\n",
       "    <tr>\n",
       "      <th>Captain</th>\n",
       "      <td>60</td>\n",
       "      <td>328</td>\n",
       "    </tr>\n",
       "    <tr>\n",
       "      <th>Lord</th>\n",
       "      <td>57</td>\n",
       "      <td>302</td>\n",
       "    </tr>\n",
       "    <tr>\n",
       "      <th>GARDENER</th>\n",
       "      <td>55</td>\n",
       "      <td>262</td>\n",
       "    </tr>\n",
       "    <tr>\n",
       "      <th>JOHN OF GAUNT</th>\n",
       "      <td>54</td>\n",
       "      <td>285</td>\n",
       "    </tr>\n",
       "    <tr>\n",
       "      <th>Father</th>\n",
       "      <td>54</td>\n",
       "      <td>276</td>\n",
       "    </tr>\n",
       "    <tr>\n",
       "      <th>EARL OF SALISBURY</th>\n",
       "      <td>52</td>\n",
       "      <td>282</td>\n",
       "    </tr>\n",
       "  </tbody>\n",
       "</table>\n",
       "</div>"
      ],
      "text/plain": [
       "                    replica_words_avg  replica_chars_avg\n",
       "acting_person                                           \n",
       "Time                              266               1343\n",
       "Scrivener                         117                612\n",
       "DUCHESS                           113                626\n",
       "Chorus                            113                596\n",
       "Third Gentleman                    98                524\n",
       "NURSE                              87                440\n",
       "THOMAS MOWBRAY                     81                416\n",
       "BISHOP OF CARLISLE                 80                439\n",
       "RICHMOND                           76                412\n",
       "Fourth Messenger                   76                410\n",
       "FRANCISCO                          76                385\n",
       "Gardener                           71                379\n",
       "Second Officer                     62                336\n",
       "KING RICHARD II                    61                319\n",
       "Captain                            60                328\n",
       "Lord                               57                302\n",
       "GARDENER                           55                262\n",
       "JOHN OF GAUNT                      54                285\n",
       "Father                             54                276\n",
       "EARL OF SALISBURY                  52                282"
      ]
     },
     "execution_count": 13,
     "metadata": {},
     "output_type": "execute_result"
    }
   ],
   "source": [
    "(\n",
    "    dataset_df.groupby(\"acting_person\")\n",
    "    .agg(replica_words_avg=(\"replica_length_word\", \"mean\"), replica_chars_avg=(\"replica_length_char\", \"mean\"))\n",
    "    .astype(int)\n",
    "    .sort_values(by=[\"replica_words_avg\", \"replica_chars_avg\"], ascending=False)\n",
    "    .iloc[:20]\n",
    ")"
   ]
  },
  {
   "attachments": {},
   "cell_type": "markdown",
   "metadata": {},
   "source": [
    "Funny enough that some not-so-important acting persons like 'Third Gentleman' or 'Nurse' are at the top of the list..."
   ]
  },
  {
   "cell_type": "code",
   "execution_count": 14,
   "metadata": {},
   "outputs": [
    {
     "data": {
      "text/plain": [
       "Third Gentleman    0.083079\n",
       "NURSE              0.013847\n",
       "Name: acting_person, dtype: float64"
      ]
     },
     "execution_count": 14,
     "metadata": {},
     "output_type": "execute_result"
    }
   ],
   "source": [
    "acting_person_distribution[[\"Third Gentleman\", \"NURSE\"]] * 100"
   ]
  },
  {
   "attachments": {},
   "cell_type": "markdown",
   "metadata": {},
   "source": [
    "... even though these two acting persons appear only 0.083% and 0.013% of time."
   ]
  }
 ],
 "metadata": {
  "kernelspec": {
   "display_name": "nanoGPT",
   "language": "python",
   "name": "python3"
  },
  "language_info": {
   "codemirror_mode": {
    "name": "ipython",
    "version": 3
   },
   "file_extension": ".py",
   "mimetype": "text/x-python",
   "name": "python",
   "nbconvert_exporter": "python",
   "pygments_lexer": "ipython3",
   "version": "3.10.8"
  },
  "orig_nbformat": 4,
  "vscode": {
   "interpreter": {
    "hash": "ed6de188a6508f9f350a997ad6df62530f7a91cb3c4106b36ebaa288db005407"
   }
  }
 },
 "nbformat": 4,
 "nbformat_minor": 2
}

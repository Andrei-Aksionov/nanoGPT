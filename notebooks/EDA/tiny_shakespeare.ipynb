{
 "cells": [
  {
   "cell_type": "code",
   "execution_count": 1,
   "metadata": {},
   "outputs": [],
   "source": [
    "from pathlib import Path\n",
    "from src import config"
   ]
  },
  {
   "cell_type": "code",
   "execution_count": 9,
   "metadata": {},
   "outputs": [
    {
     "data": {
      "text/plain": [
       "PosixPath('/Users/andreiaksionov/Study/Machine_Learning/my_repositories/nanoGPT/data/raw/tiny_shakespeare/input.txt')"
      ]
     },
     "execution_count": 9,
     "metadata": {},
     "output_type": "execute_result"
    }
   ],
   "source": [
    "dataset_filepath = Path(\"../..\").resolve() / config.datasets.tiny_shakespeare.folder / Path(config.datasets.tiny_shakespeare.url).name\n",
    "dataset_filepath\n"
   ]
  },
  {
   "cell_type": "code",
   "execution_count": 14,
   "metadata": {},
   "outputs": [],
   "source": [
    "with open(dataset_filepath, \"r\") as fin:\n",
    "    dataset = fin.read()"
   ]
  },
  {
   "cell_type": "code",
   "execution_count": 18,
   "metadata": {},
   "outputs": [
    {
     "name": "stdout",
     "output_type": "stream",
     "text": [
      "First Citizen:\n",
      "Before we proceed any further, hear me speak.\n",
      "\n",
      "All:\n",
      "Speak, speak.\n",
      "\n",
      "First Citizen:\n",
      "You are all resolved rather to die than to famish?\n",
      "\n",
      "All:\n",
      "Resolved. resolved.\n",
      "\n",
      "First Citizen:\n",
      "First, you know Caius Marcius is chief enemy to the people.\n",
      "\n",
      "All:\n",
      "We know't, we know't.\n",
      "\n",
      "First Citizen:\n",
      "Let us\n"
     ]
    }
   ],
   "source": [
    "print(dataset[:3_00])"
   ]
  },
  {
   "cell_type": "code",
   "execution_count": 20,
   "metadata": {},
   "outputs": [
    {
     "data": {
      "text/plain": [
       "['First Citizen:\\nBefore we proceed any further, hear me speak.',\n",
       " 'All:\\nSpeak, speak.',\n",
       " 'First Citizen:\\nYou are all resolved rather to die than to famish?',\n",
       " 'All:\\nResolved. resolved.',\n",
       " 'First Citizen:\\nFirst, you know Caius Marcius is chief enemy to the people.',\n",
       " \"All:\\nWe know't, we know't.\",\n",
       " \"First Citizen:\\nLet us kill him, and we'll have corn at our own price.\\nIs't a verdict?\",\n",
       " \"All:\\nNo more talking on't; let it be done: away, away!\",\n",
       " 'Second Citizen:\\nOne word, good citizens.',\n",
       " 'First Citizen:\\nWe are accounted poor citizens, the patricians good.\\nWhat authority surfeits on would relieve us: if they\\nwould yield us but the superfluity, while it were\\nwholesome, we might guess they relieved us humanely;\\nbut they think we are too dear: the leanness that\\nafflicts us, the object of our misery, is as an\\ninventory to particularise their abundance; our\\nsufferance is a gain to them Let us revenge this with\\nour pikes, ere we become rakes: for the gods know I\\nspeak this in hunger for bread, not in thirst for revenge.',\n",
       " '']"
      ]
     },
     "execution_count": 20,
     "metadata": {},
     "output_type": "execute_result"
    }
   ],
   "source": [
    "dataset[:1_000].split(\"\\n\\n\")"
   ]
  },
  {
   "attachments": {},
   "cell_type": "markdown",
   "metadata": {},
   "source": [
    "### Characters"
   ]
  },
  {
   "cell_type": "code",
   "execution_count": 30,
   "metadata": {},
   "outputs": [],
   "source": [
    "from collections import Counter\n",
    "counter = Counter([x.split(\"\\n\")[0][:-1] for x in dataset.split(\"\\n\\n\")])"
   ]
  },
  {
   "cell_type": "code",
   "execution_count": 31,
   "metadata": {},
   "outputs": [
    {
     "data": {
      "text/plain": [
       "310"
      ]
     },
     "execution_count": 31,
     "metadata": {},
     "output_type": "execute_result"
    }
   ],
   "source": [
    "len(counter)"
   ]
  },
  {
   "cell_type": "code",
   "execution_count": 32,
   "metadata": {},
   "outputs": [
    {
     "data": {
      "text/plain": [
       "[('GLOUCESTER', 229),\n",
       " ('DUKE VINCENTIO', 193),\n",
       " ('ROMEO', 163),\n",
       " ('MENENIUS', 162),\n",
       " ('PETRUCHIO', 158),\n",
       " ('CORIOLANUS', 149),\n",
       " ('KING RICHARD III', 138),\n",
       " ('ISABELLA', 129),\n",
       " ('JULIET', 125),\n",
       " ('LEONTES', 125)]"
      ]
     },
     "execution_count": 32,
     "metadata": {},
     "output_type": "execute_result"
    }
   ],
   "source": [
    "counter.most_common(10)"
   ]
  },
  {
   "attachments": {},
   "cell_type": "markdown",
   "metadata": {},
   "source": [
    "### Texts"
   ]
  },
  {
   "cell_type": "code",
   "execution_count": 45,
   "metadata": {},
   "outputs": [],
   "source": [
    "texts = []\n",
    "for block in dataset.split(\"\\n\\n\"):\n",
    "    if not block:\n",
    "        continue\n",
    "    block_split = block.split(\":\", maxsplit=1)\n",
    "    if len(block_split) != 2:\n",
    "        print(\"!!!\")\n",
    "        print(block)\n",
    "        print(block_split)\n",
    "        break\n",
    "    texts.append(block_split[1][1:])"
   ]
  },
  {
   "cell_type": "code",
   "execution_count": 47,
   "metadata": {},
   "outputs": [
    {
     "data": {
      "text/plain": [
       "['Before we proceed any further, hear me speak.',\n",
       " 'Speak, speak.',\n",
       " 'You are all resolved rather to die than to famish?',\n",
       " 'Resolved. resolved.',\n",
       " 'First, you know Caius Marcius is chief enemy to the people.',\n",
       " \"We know't, we know't.\",\n",
       " \"Let us kill him, and we'll have corn at our own price.\\nIs't a verdict?\",\n",
       " \"No more talking on't; let it be done: away, away!\",\n",
       " 'One word, good citizens.',\n",
       " 'We are accounted poor citizens, the patricians good.\\nWhat authority surfeits on would relieve us: if they\\nwould yield us but the superfluity, while it were\\nwholesome, we might guess they relieved us humanely;\\nbut they think we are too dear: the leanness that\\nafflicts us, the object of our misery, is as an\\ninventory to particularise their abundance; our\\nsufferance is a gain to them Let us revenge this with\\nour pikes, ere we become rakes: for the gods know I\\nspeak this in hunger for bread, not in thirst for revenge.']"
      ]
     },
     "execution_count": 47,
     "metadata": {},
     "output_type": "execute_result"
    }
   ],
   "source": [
    "texts[:10]"
   ]
  },
  {
   "cell_type": "code",
   "execution_count": 50,
   "metadata": {},
   "outputs": [],
   "source": [
    "from matplotlib import pyplot as plt\n",
    "import numpy as np"
   ]
  },
  {
   "cell_type": "code",
   "execution_count": 49,
   "metadata": {},
   "outputs": [],
   "source": [
    "text_length = [len(x) for x in texts]"
   ]
  },
  {
   "cell_type": "code",
   "execution_count": 55,
   "metadata": {},
   "outputs": [
    {
     "name": "stdout",
     "output_type": "stream",
     "text": [
      "0 3068 141.33979507061755\n"
     ]
    },
    {
     "data": {
      "image/png": "[encoded data removed]",
      "text/plain": [
       "<Figure size 640x480 with 1 Axes>"
      ]
     },
     "metadata": {},
     "output_type": "display_data"
    }
   ],
   "source": [
    "print(min(text_length), max(text_length), np.mean(text_length))\n",
    "\n",
    "plt.hist(text_length, bins=100);"
   ]
  },
  {
   "cell_type": "code",
   "execution_count": 56,
   "metadata": {},
   "outputs": [],
   "source": [
    "text_length_words = [len(x.split(\" \")) for x in texts]"
   ]
  },
  {
   "cell_type": "code",
   "execution_count": 57,
   "metadata": {},
   "outputs": [
    {
     "name": "stdout",
     "output_type": "stream",
     "text": [
      "1 506 24.16394350595403\n"
     ]
    },
    {
     "data": {
      "image/png": "[encoded data removed]",
      "text/plain": [
       "<Figure size 640x480 with 1 Axes>"
      ]
     },
     "metadata": {},
     "output_type": "display_data"
    }
   ],
   "source": [
    "print(min(text_length_words), max(text_length_words), np.mean(text_length_words))\n",
    "\n",
    "plt.hist(text_length_words, bins=100);"
   ]
  },
  {
   "cell_type": "code",
   "execution_count": 71,
   "metadata": {},
   "outputs": [
    {
     "name": "stdout",
     "output_type": "stream",
     "text": [
      "37176\n"
     ]
    },
    {
     "data": {
      "text/plain": [
       "[('the', 5261),\n",
       " ('to', 3830),\n",
       " ('I', 3672),\n",
       " ('and', 3532),\n",
       " ('of', 3195),\n",
       " ('my', 2644),\n",
       " ('a', 2517),\n",
       " ('you', 2016),\n",
       " ('in', 2014),\n",
       " ('that', 1737),\n",
       " ('is', 1720),\n",
       " ('not', 1547),\n",
       " ('with', 1506),\n",
       " ('your', 1450),\n",
       " ('be', 1434),\n",
       " ('for', 1340),\n",
       " ('his', 1338),\n",
       " ('have', 1224),\n",
       " ('it', 1131),\n",
       " ('he', 1095)]"
      ]
     },
     "execution_count": 71,
     "metadata": {},
     "output_type": "execute_result"
    }
   ],
   "source": [
    "word_counter = Counter()\n",
    "for text in texts:\n",
    "    word_counter.update(text.split(\" \"))\n",
    "print(len(word_counter))\n",
    "word_counter.most_common(20)"
   ]
  }
 ],
 "metadata": {
  "kernelspec": {
   "display_name": "nanoGPT",
   "language": "python",
   "name": "python3"
  },
  "language_info": {
   "codemirror_mode": {
    "name": "ipython",
    "version": 3
   },
   "file_extension": ".py",
   "mimetype": "text/x-python",
   "name": "python",
   "nbconvert_exporter": "python",
   "pygments_lexer": "ipython3",
   "version": "3.10.8"
  },
  "orig_nbformat": 4,
  "vscode": {
   "interpreter": {
    "hash": "ed6de188a6508f9f350a997ad6df62530f7a91cb3c4106b36ebaa288db005407"
   }
  }
 },
 "nbformat": 4,
 "nbformat_minor": 2
}
